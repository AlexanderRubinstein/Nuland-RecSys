{
 "cells": [
  {
   "cell_type": "code",
   "execution_count": 2,
   "metadata": {},
   "outputs": [],
   "source": [
    "import pandas as pd\n",
    "import re"
   ]
  },
  {
   "cell_type": "code",
   "execution_count": 3,
   "metadata": {},
   "outputs": [],
   "source": [
    "df_idf = pd.read_json(\"data/photo_youdo.json\", lines=True)"
   ]
  },
  {
   "cell_type": "code",
   "execution_count": 6,
   "metadata": {},
   "outputs": [
    {
     "data": {
      "text/html": [
       "<div>\n",
       "<style scoped>\n",
       "    .dataframe tbody tr th:only-of-type {\n",
       "        vertical-align: middle;\n",
       "    }\n",
       "\n",
       "    .dataframe tbody tr th {\n",
       "        vertical-align: top;\n",
       "    }\n",
       "\n",
       "    .dataframe thead th {\n",
       "        text-align: right;\n",
       "    }\n",
       "</style>\n",
       "<table border=\"1\" class=\"dataframe\">\n",
       "  <thead>\n",
       "    <tr style=\"text-align: right;\">\n",
       "      <th></th>\n",
       "      <th>body</th>\n",
       "    </tr>\n",
       "  </thead>\n",
       "  <tbody>\n",
       "    <tr>\n",
       "      <th>0</th>\n",
       "      <td>Wedding photographer\\nNeed a photographer for ...</td>\n",
       "    </tr>\n",
       "    <tr>\n",
       "      <th>1</th>\n",
       "      <td>Treatment youtube video\\nGood afternoon. It is...</td>\n",
       "    </tr>\n",
       "    <tr>\n",
       "      <th>2</th>\n",
       "      <td>Need a videographer\\nTo remove the backstage p...</td>\n",
       "    </tr>\n",
       "    <tr>\n",
       "      <th>3</th>\n",
       "      <td>Looking for a photographer for family photogra...</td>\n",
       "    </tr>\n",
       "    <tr>\n",
       "      <th>4</th>\n",
       "      <td>Mount video 3.5 min\\nTotal duration 3 min 30 s...</td>\n",
       "    </tr>\n",
       "    <tr>\n",
       "      <th>5</th>\n",
       "      <td>Subject photography\\nNeed to sell photos for t...</td>\n",
       "    </tr>\n",
       "    <tr>\n",
       "      <th>6</th>\n",
       "      <td>Photography\\nPhotographing models for my Insta...</td>\n",
       "    </tr>\n",
       "    <tr>\n",
       "      <th>7</th>\n",
       "      <td>Edit video\\nYou need to remove the logo to the...</td>\n",
       "    </tr>\n",
       "    <tr>\n",
       "      <th>8</th>\n",
       "      <td>To make a video review\\nYou need to make a vid...</td>\n",
       "    </tr>\n",
       "    <tr>\n",
       "      <th>9</th>\n",
       "      <td>Need to do a video\\nTo film the video</td>\n",
       "    </tr>\n",
       "  </tbody>\n",
       "</table>\n",
       "</div>"
      ],
      "text/plain": [
       "                                                body\n",
       "0  Wedding photographer\\nNeed a photographer for ...\n",
       "1  Treatment youtube video\\nGood afternoon. It is...\n",
       "2  Need a videographer\\nTo remove the backstage p...\n",
       "3  Looking for a photographer for family photogra...\n",
       "4  Mount video 3.5 min\\nTotal duration 3 min 30 s...\n",
       "5  Subject photography\\nNeed to sell photos for t...\n",
       "6  Photography\\nPhotographing models for my Insta...\n",
       "7  Edit video\\nYou need to remove the logo to the...\n",
       "8  To make a video review\\nYou need to make a vid...\n",
       "9              Need to do a video\\nTo film the video"
      ]
     },
     "execution_count": 6,
     "metadata": {},
     "output_type": "execute_result"
    }
   ],
   "source": [
    "df_idf.head(10)"
   ]
  },
  {
   "cell_type": "code",
   "execution_count": 8,
   "metadata": {},
   "outputs": [],
   "source": [
    "# should be more sophisticated\n",
    "def pre_process(text):\n",
    "    # lowercase\n",
    "    text=text.lower()\n",
    "    \n",
    "    #remove tags\n",
    "    text=re.sub(\"</?.*?>\",\" <> \",text)\n",
    "    \n",
    "    # remove special characters and digits\n",
    "    text=re.sub(\"(\\\\d|\\\\W)+\",\" \",text)\n",
    "    \n",
    "    return text"
   ]
  },
  {
   "cell_type": "code",
   "execution_count": 9,
   "metadata": {},
   "outputs": [],
   "source": [
    "df_idf['text'] = df_idf['body']\n",
    "df_idf['text'] = df_idf['text'].apply(lambda x: pre_process(x))"
   ]
  },
  {
   "cell_type": "code",
   "execution_count": 12,
   "metadata": {},
   "outputs": [
    {
     "data": {
      "text/plain": [
       "'wedding photographer need a photographer for a wedding february from to or hours charges the bride check the south west of moscow '"
      ]
     },
     "execution_count": 12,
     "metadata": {},
     "output_type": "execute_result"
    }
   ],
   "source": [
    "df_idf['text'][0]"
   ]
  },
  {
   "cell_type": "code",
   "execution_count": 13,
   "metadata": {},
   "outputs": [],
   "source": [
    "def get_stopwords(stop_words_file):\n",
    "    with open(stop_words_file, 'r', encoding='utf-8') as f:\n",
    "        stop_words = f.readlines()\n",
    "        stop_set = (m.strip() for m in stop_words)\n",
    "        return frozenset(stop_set)\n",
    "    \n",
    "stopwords = get_stopwords(\"data/stopwords/stopwords.txt\")    "
   ]
  },
  {
   "cell_type": "code",
   "execution_count": 14,
   "metadata": {},
   "outputs": [
    {
     "name": "stderr",
     "output_type": "stream",
     "text": [
      "/home/feathernox/anaconda2/envs/py37/lib/python3.7/site-packages/sklearn/feature_extraction/text.py:300: UserWarning: Your stop_words may be inconsistent with your preprocessing. Tokenizing the stop words generated tokens ['come', 'vis', 'viser', 'visest'] not in stop_words.\n",
      "  'stop_words.' % sorted(inconsistent))\n"
     ]
    }
   ],
   "source": [
    "from sklearn.feature_extraction.text import CountVectorizer\n",
    "\n",
    "docs = df_idf['text'].tolist()\n",
    "cv = CountVectorizer(max_df=0.85, stop_words=stopwords, max_features=10000)\n",
    "\n",
    "word_count_vector = cv.fit_transform(docs)"
   ]
  },
  {
   "cell_type": "code",
   "execution_count": 16,
   "metadata": {},
   "outputs": [
    {
     "data": {
      "text/plain": [
       "(9000, 7895)"
      ]
     },
     "execution_count": 16,
     "metadata": {},
     "output_type": "execute_result"
    }
   ],
   "source": [
    "word_count_vector.shape"
   ]
  },
  {
   "cell_type": "code",
   "execution_count": 17,
   "metadata": {},
   "outputs": [
    {
     "data": {
      "text/plain": [
       "['wedding',\n",
       " 'photographer',\n",
       " 'need',\n",
       " 'february',\n",
       " 'hours',\n",
       " 'charges',\n",
       " 'bride',\n",
       " 'check',\n",
       " 'south',\n",
       " 'west']"
      ]
     },
     "execution_count": 17,
     "metadata": {},
     "output_type": "execute_result"
    }
   ],
   "source": [
    "list(cv.vocabulary_.keys())[:10]"
   ]
  },
  {
   "cell_type": "code",
   "execution_count": 18,
   "metadata": {},
   "outputs": [
    {
     "data": {
      "text/plain": [
       "TfidfTransformer(norm='l2', smooth_idf=True, sublinear_tf=False, use_idf=True)"
      ]
     },
     "execution_count": 18,
     "metadata": {},
     "output_type": "execute_result"
    }
   ],
   "source": [
    "from sklearn.feature_extraction.text import TfidfTransformer\n",
    "\n",
    "tfidf_transformer = TfidfTransformer(smooth_idf=True, use_idf=True)\n",
    "tfidf_transformer.fit(word_count_vector)\n",
    "\n"
   ]
  },
  {
   "cell_type": "code",
   "execution_count": 49,
   "metadata": {},
   "outputs": [
    {
     "data": {
      "text/plain": [
       "<9000x7895 sparse matrix of type '<class 'numpy.float64'>'\n",
       "\twith 88441 stored elements in Compressed Sparse Row format>"
      ]
     },
     "execution_count": 49,
     "metadata": {},
     "output_type": "execute_result"
    }
   ],
   "source": [
    "tfidf_transformer.transform(word_count_vector)"
   ]
  },
  {
   "cell_type": "code",
   "execution_count": 20,
   "metadata": {},
   "outputs": [],
   "source": [
    "tfidf_vector_0 = tfidf_transformer.transform(cv.transform([docs[0]]))"
   ]
  },
  {
   "cell_type": "code",
   "execution_count": 50,
   "metadata": {},
   "outputs": [],
   "source": [
    "features_vec = tfidf_transformer.transform(word_count_vector)"
   ]
  },
  {
   "cell_type": "code",
   "execution_count": 22,
   "metadata": {},
   "outputs": [],
   "source": [
    "def sort_COO(COO_matrix):\n",
    "    tuples = zip(COO_matrix.col, COO_matrix.data)\n",
    "    return sorted(tuples, key=lambda x:(x[1], x[0]), reverse=True)\n",
    "\n",
    "def topn(sorted_tuples, feature_names, topn):\n",
    "    feature_list = []\n",
    "    value_list = []\n",
    "    sorted_tuples = sorted_tuples[:topn]\n",
    "    for idx, value in sorted_tuples:\n",
    "        feature_list.append(feature_names[idx])\n",
    "        value_list.append(value)\n",
    "    results = {}\n",
    "    for idx in range(len(feature_list)):\n",
    "        results[feature_list[idx]] = value_list[idx]\n",
    "    return results"
   ]
  },
  {
   "cell_type": "code",
   "execution_count": 23,
   "metadata": {},
   "outputs": [
    {
     "data": {
      "text/plain": [
       "'wedding photographer need a photographer for a wedding february from to or hours charges the bride check the south west of moscow '"
      ]
     },
     "execution_count": 23,
     "metadata": {},
     "output_type": "execute_result"
    }
   ],
   "source": [
    "docs[0]"
   ]
  },
  {
   "cell_type": "code",
   "execution_count": 24,
   "metadata": {},
   "outputs": [],
   "source": [
    "feature_names=cv.get_feature_names()\n",
    "sorted_tuples = sort_COO(tfidf_vector_0.tocoo())\n",
    "keywords = topn(sorted_tuples, feature_names, 10)"
   ]
  },
  {
   "cell_type": "code",
   "execution_count": 25,
   "metadata": {},
   "outputs": [
    {
     "name": "stdout",
     "output_type": "stream",
     "text": [
      "west 0.4042789949989151\n",
      "charges 0.393932125493509\n",
      "wedding 0.3912576182518272\n",
      "south 0.35737240700637873\n",
      "check 0.31404973108812584\n",
      "february 0.2975111886160402\n",
      "bride 0.2975111886160402\n",
      "moscow 0.2121673515979993\n",
      "photographer 0.20474498442274677\n",
      "hours 0.17884618665707813\n"
     ]
    }
   ],
   "source": [
    "for k in keywords:\n",
    "    print(k, keywords[k])"
   ]
  },
  {
   "cell_type": "code",
   "execution_count": 66,
   "metadata": {},
   "outputs": [],
   "source": [
    "tfidf_vector_1 = tfidf_transformer.transform(cv.transform(['wanna photo pets dogs or cats']))"
   ]
  },
  {
   "cell_type": "code",
   "execution_count": 60,
   "metadata": {},
   "outputs": [
    {
     "data": {
      "text/plain": [
       "<1x7895 sparse matrix of type '<class 'numpy.int64'>'\n",
       "\twith 2 stored elements in Compressed Sparse Row format>"
      ]
     },
     "execution_count": 60,
     "metadata": {},
     "output_type": "execute_result"
    }
   ],
   "source": [
    "cv.transform(['wanna photo family'])"
   ]
  },
  {
   "cell_type": "code",
   "execution_count": 40,
   "metadata": {},
   "outputs": [],
   "source": [
    "from sklearn.metrics.pairwise import cosine_similarity\n",
    "\n",
    "cossim = cosine_similarity(tfidf_vector_0, tfidf_vector_1)"
   ]
  },
  {
   "cell_type": "code",
   "execution_count": 54,
   "metadata": {
    "scrolled": true
   },
   "outputs": [
    {
     "data": {
      "text/plain": [
       "<1x7895 sparse matrix of type '<class 'numpy.float64'>'\n",
       "\twith 17 stored elements in Compressed Sparse Row format>"
      ]
     },
     "execution_count": 54,
     "metadata": {},
     "output_type": "execute_result"
    }
   ],
   "source": [
    "tfidf_vector_1"
   ]
  },
  {
   "cell_type": "code",
   "execution_count": 55,
   "metadata": {},
   "outputs": [
    {
     "data": {
      "text/plain": [
       "'looking for a photographer for family photography two adults and two children the ability to lure children in priority at the end of the week will be in moscow i would like to find a good family photographer for outdoor photo shoot '"
      ]
     },
     "execution_count": 55,
     "metadata": {},
     "output_type": "execute_result"
    }
   ],
   "source": [
    "docs[3]"
   ]
  },
  {
   "cell_type": "code",
   "execution_count": 67,
   "metadata": {},
   "outputs": [
    {
     "name": "stderr",
     "output_type": "stream",
     "text": [
      "/home/feathernox/anaconda2/envs/py37/lib/python3.7/site-packages/pysparnn/matrix_distance.py:192: RuntimeWarning: divide by zero encountered in true_divide\n",
      "  magnitude = 1.0 / (a_root_sum_square * self.matrix_root_sum_square)\n",
      "/home/feathernox/anaconda2/envs/py37/lib/python3.7/site-packages/pysparnn/matrix_distance.py:192: RuntimeWarning: divide by zero encountered in true_divide\n",
      "  magnitude = 1.0 / (a_root_sum_square * self.matrix_root_sum_square)\n"
     ]
    },
    {
     "data": {
      "text/plain": [
       "[[('0.5277288258977926', 'photo shoot of dogs on the street photoshoot dogs'),\n",
       "  ('0.630075843587516',\n",
       "   'dog photos need a photographer who can photograph dogs need photo dogs for pristroystvo better on his car '),\n",
       "  ('0.6564190536454169',\n",
       "   'the photo of the dog to make beautiful photos of dogs'),\n",
       "  ('0.6801762772865048',\n",
       "   'rent dogs for video shooting you need dogs breed small and big dog to shoot for a blogger in instagram'),\n",
       "  ('0.6940001958555815',\n",
       "   'need photographer for a photoshoot of dogs need a photographer for a photo shoot puppies just dogs standing on the table changes require photography for advertising '),\n",
       "  ('0.7308651857159978',\n",
       "   'you photoshop the picture there is a picture where you need to replace all of the face or faces of cats'),\n",
       "  ('0.7383320005284966',\n",
       "   'installation video collect clips funny or cute how to play pets no longer than seconds '),\n",
       "  ('0.7383763769613988',\n",
       "   'to shoot and mount the video to shoot event with dogs to mount the roller for a few minutes '),\n",
       "  ('0.7431230059055194',\n",
       "   'need a photographer for the event need a photographer for an event wedding cats also needed video the event will be held tomorrow '),\n",
       "  ('0.7536468230461969',\n",
       "   'photo session with animals you need to remove the little kittens and dogs'),\n",
       "  ('0.7736148527524478',\n",
       "   'animal photos need a photographer who can work with animals required a public relations photo shoot cats for pristroystvo'),\n",
       "  ('0.7841063306827323',\n",
       "   'photo walk with the dogs patriarch s ponds to remove on a photo walk with the dogs patriarch s ponds walk for half an hour and shooting in the evening on the patriarchal '),\n",
       "  ('0.7887963152154777',\n",
       "   'to remove a half hour video on the exhibition in the coming saturday and sunday will be held in expoforum exhibition of pets pet show https '),\n",
       "  ('0.7921860203740008',\n",
       "   'photoshoot with huskies in yaroslavl need a photo shoot with the dogs a gift for the birthday girl the company of about people '),\n",
       "  ('0.8043149715000785',\n",
       "   'photo shoot with lynx or puma going to make a gift for the girl who loves and is not afraid of big cats but never they have not approached '),\n",
       "  ('0.8125265824497042',\n",
       "   'rent dogs for a photo shoot need a golden retriever for a photo shoot reddish on november from am m savelovsky for hour '),\n",
       "  ('0.8132155043769377',\n",
       "   'rent dogs for a photo shoot in saint petersburg to shoot a christmas photo shoot to a young couple with a husky labrador or corgi'),\n",
       "  ('0.8149867736221316',\n",
       "   'photography of interiors with the cat there is a small exhibition of furniture rooms need to take photos with the cat or cats in these interiors '),\n",
       "  ('0.8326925216916699',\n",
       "   'photographer dogs puppies need a photographer for professional photography puppies for sale photos geographically krekshino '),\n",
       "  ('0.8973801453261414', 'photo photo for website')]]"
      ]
     },
     "execution_count": 67,
     "metadata": {},
     "output_type": "execute_result"
    }
   ],
   "source": [
    "import pysparnn.cluster_index as ci\n",
    "\n",
    "cp = ci.MultiClusterIndex(features_vec, docs)\n",
    "\n",
    "\n",
    "cp.search(tfidf_vector_1, k=20, k_clusters=2, return_distance=True)"
   ]
  }
 ],
 "metadata": {
  "kernelspec": {
   "display_name": "Python 3",
   "language": "python",
   "name": "python3"
  },
  "language_info": {
   "codemirror_mode": {
    "name": "ipython",
    "version": 3
   },
   "file_extension": ".py",
   "mimetype": "text/x-python",
   "name": "python",
   "nbconvert_exporter": "python",
   "pygments_lexer": "ipython3",
   "version": "3.7.3"
  }
 },
 "nbformat": 4,
 "nbformat_minor": 2
}
