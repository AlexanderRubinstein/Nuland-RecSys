{
 "cells": [
  {
   "cell_type": "code",
   "execution_count": 4,
   "metadata": {},
   "outputs": [],
   "source": [
    "import pandas as pd\n",
    "import re"
   ]
  },
  {
   "cell_type": "code",
   "execution_count": 5,
   "metadata": {},
   "outputs": [],
   "source": [
    "df_idf = pd.read_json(\"data/photo_youdo.json\", lines=True)"
   ]
  },
  {
   "cell_type": "code",
   "execution_count": 6,
   "metadata": {
    "scrolled": true
   },
   "outputs": [
    {
     "data": {
      "text/html": [
       "<div>\n",
       "<style scoped>\n",
       "    .dataframe tbody tr th:only-of-type {\n",
       "        vertical-align: middle;\n",
       "    }\n",
       "\n",
       "    .dataframe tbody tr th {\n",
       "        vertical-align: top;\n",
       "    }\n",
       "\n",
       "    .dataframe thead th {\n",
       "        text-align: right;\n",
       "    }\n",
       "</style>\n",
       "<table border=\"1\" class=\"dataframe\">\n",
       "  <thead>\n",
       "    <tr style=\"text-align: right;\">\n",
       "      <th></th>\n",
       "      <th>body</th>\n",
       "    </tr>\n",
       "  </thead>\n",
       "  <tbody>\n",
       "    <tr>\n",
       "      <td>0</td>\n",
       "      <td>Wedding photographer\\nNeed a photographer for ...</td>\n",
       "    </tr>\n",
       "    <tr>\n",
       "      <td>1</td>\n",
       "      <td>Treatment youtube video\\nGood afternoon. It is...</td>\n",
       "    </tr>\n",
       "    <tr>\n",
       "      <td>2</td>\n",
       "      <td>Need a videographer\\nTo remove the backstage p...</td>\n",
       "    </tr>\n",
       "    <tr>\n",
       "      <td>3</td>\n",
       "      <td>Looking for a photographer for family photogra...</td>\n",
       "    </tr>\n",
       "    <tr>\n",
       "      <td>4</td>\n",
       "      <td>Mount video 3.5 min\\nTotal duration 3 min 30 s...</td>\n",
       "    </tr>\n",
       "    <tr>\n",
       "      <td>5</td>\n",
       "      <td>Subject photography\\nNeed to sell photos for t...</td>\n",
       "    </tr>\n",
       "    <tr>\n",
       "      <td>6</td>\n",
       "      <td>Photography\\nPhotographing models for my Insta...</td>\n",
       "    </tr>\n",
       "    <tr>\n",
       "      <td>7</td>\n",
       "      <td>Edit video\\nYou need to remove the logo to the...</td>\n",
       "    </tr>\n",
       "    <tr>\n",
       "      <td>8</td>\n",
       "      <td>To make a video review\\nYou need to make a vid...</td>\n",
       "    </tr>\n",
       "    <tr>\n",
       "      <td>9</td>\n",
       "      <td>Need to do a video\\nTo film the video</td>\n",
       "    </tr>\n",
       "  </tbody>\n",
       "</table>\n",
       "</div>"
      ],
      "text/plain": [
       "                                                body\n",
       "0  Wedding photographer\\nNeed a photographer for ...\n",
       "1  Treatment youtube video\\nGood afternoon. It is...\n",
       "2  Need a videographer\\nTo remove the backstage p...\n",
       "3  Looking for a photographer for family photogra...\n",
       "4  Mount video 3.5 min\\nTotal duration 3 min 30 s...\n",
       "5  Subject photography\\nNeed to sell photos for t...\n",
       "6  Photography\\nPhotographing models for my Insta...\n",
       "7  Edit video\\nYou need to remove the logo to the...\n",
       "8  To make a video review\\nYou need to make a vid...\n",
       "9              Need to do a video\\nTo film the video"
      ]
     },
     "execution_count": 6,
     "metadata": {},
     "output_type": "execute_result"
    }
   ],
   "source": [
    "df_idf.head(10)"
   ]
  },
  {
   "cell_type": "markdown",
   "metadata": {},
   "source": [
    "## Text normalization"
   ]
  },
  {
   "cell_type": "code",
   "execution_count": 3,
   "metadata": {},
   "outputs": [
    {
     "name": "stderr",
     "output_type": "stream",
     "text": [
      "[nltk_data] Downloading package wordnet to\n",
      "[nltk_data]     C:\\Users\\Alexander\\AppData\\Roaming\\nltk_data...\n",
      "[nltk_data]   Package wordnet is already up-to-date!\n",
      "[nltk_data] Downloading package punkt to\n",
      "[nltk_data]     C:\\Users\\Alexander\\AppData\\Roaming\\nltk_data...\n",
      "[nltk_data]   Package punkt is already up-to-date!\n"
     ]
    }
   ],
   "source": [
    "import nltk\n",
    "from nltk.stem import WordNetLemmatizer\n",
    "\n",
    "nltk.download('wordnet')\n",
    "nltk.download('punkt')\n",
    "\n",
    "word_net_lemmatizer = WordNetLemmatizer()\n",
    "\n",
    "# should be more sophisticated\n",
    "def pre_process(text):\n",
    "    # lowercase\n",
    "    text = text.lower()\n",
    "    \n",
    "    #remove tags\n",
    "    text = re.sub(\"</?.*?>\",\" <> \",text)\n",
    "    \n",
    "    # remove special characters and digits\n",
    "    text = re.sub(\"(\\\\d|\\\\W)+\",\" \",text)\n",
    "    \n",
    "    text_words = nltk.word_tokenize(text)\n",
    "    lemmatized_text = \"\"\n",
    "    for word in text_words:\n",
    "        lemma = word_net_lemmatizer.lemmatize(word)\n",
    "        lemmatized_text += \" \" + lemma\n",
    "    text = lemmatized_text[1:] \n",
    "    \n",
    "    return text"
   ]
  },
  {
   "cell_type": "code",
   "execution_count": 7,
   "metadata": {},
   "outputs": [],
   "source": [
    "df_idf['text'] = df_idf['body']\n",
    "df_idf['text'] = df_idf['text'].apply(lambda x: pre_process(x))"
   ]
  },
  {
   "cell_type": "code",
   "execution_count": 8,
   "metadata": {
    "scrolled": true
   },
   "outputs": [
    {
     "data": {
      "text/plain": [
       "'wedding photographer need a photographer for a wedding february from to or hour charge the bride check the south west of moscow'"
      ]
     },
     "execution_count": 8,
     "metadata": {},
     "output_type": "execute_result"
    }
   ],
   "source": [
    "df_idf['text'][0]"
   ]
  },
  {
   "cell_type": "markdown",
   "metadata": {},
   "source": [
    "# Stopwords"
   ]
  },
  {
   "cell_type": "code",
   "execution_count": 9,
   "metadata": {},
   "outputs": [
    {
     "name": "stderr",
     "output_type": "stream",
     "text": [
      "[nltk_data] Downloading package stopwords to\n",
      "[nltk_data]     C:\\Users\\Alexander\\AppData\\Roaming\\nltk_data...\n",
      "[nltk_data]   Package stopwords is already up-to-date!\n"
     ]
    }
   ],
   "source": [
    "from nltk.corpus import stopwords\n",
    "nltk.download('stopwords')\n",
    "stop_words = set(stopwords.words('english'))   "
   ]
  },
  {
   "cell_type": "code",
   "execution_count": 10,
   "metadata": {},
   "outputs": [],
   "source": [
    "from sklearn.feature_extraction.text import CountVectorizer\n",
    "\n",
    "docs = df_idf['text'].tolist()\n",
    "cv = CountVectorizer(max_df=0.85, stop_words=stop_words, max_features=10000)\n",
    "\n",
    "word_count_vector = cv.fit_transform(docs)"
   ]
  },
  {
   "cell_type": "code",
   "execution_count": 11,
   "metadata": {},
   "outputs": [
    {
     "data": {
      "text/plain": [
       "(9000, 7138)"
      ]
     },
     "execution_count": 11,
     "metadata": {},
     "output_type": "execute_result"
    }
   ],
   "source": [
    "word_count_vector.shape"
   ]
  },
  {
   "cell_type": "code",
   "execution_count": 12,
   "metadata": {},
   "outputs": [
    {
     "data": {
      "text/plain": [
       "['wedding',\n",
       " 'photographer',\n",
       " 'need',\n",
       " 'february',\n",
       " 'hour',\n",
       " 'charge',\n",
       " 'bride',\n",
       " 'check',\n",
       " 'south',\n",
       " 'west']"
      ]
     },
     "execution_count": 12,
     "metadata": {},
     "output_type": "execute_result"
    }
   ],
   "source": [
    "list(cv.vocabulary_.keys())[:10]"
   ]
  },
  {
   "cell_type": "code",
   "execution_count": 13,
   "metadata": {},
   "outputs": [
    {
     "data": {
      "text/plain": [
       "TfidfTransformer(norm='l2', smooth_idf=True, sublinear_tf=False, use_idf=True)"
      ]
     },
     "execution_count": 13,
     "metadata": {},
     "output_type": "execute_result"
    }
   ],
   "source": [
    "from sklearn.feature_extraction.text import TfidfTransformer\n",
    "\n",
    "tfidf_transformer = TfidfTransformer(smooth_idf=True, use_idf=True)\n",
    "tfidf_transformer.fit(word_count_vector)\n",
    "\n"
   ]
  },
  {
   "cell_type": "code",
   "execution_count": 14,
   "metadata": {},
   "outputs": [
    {
     "data": {
      "text/plain": [
       "<9000x7138 sparse matrix of type '<class 'numpy.float64'>'\n",
       "\twith 91974 stored elements in Compressed Sparse Row format>"
      ]
     },
     "execution_count": 14,
     "metadata": {},
     "output_type": "execute_result"
    }
   ],
   "source": [
    "tfidf_transformer.transform(word_count_vector)"
   ]
  },
  {
   "cell_type": "code",
   "execution_count": 15,
   "metadata": {},
   "outputs": [],
   "source": [
    "tfidf_vector_0 = tfidf_transformer.transform(cv.transform([docs[0]]))"
   ]
  },
  {
   "cell_type": "code",
   "execution_count": 16,
   "metadata": {},
   "outputs": [],
   "source": [
    "features_vec = tfidf_transformer.transform(word_count_vector)"
   ]
  },
  {
   "cell_type": "code",
   "execution_count": 17,
   "metadata": {},
   "outputs": [],
   "source": [
    "def sort_COO(COO_matrix):\n",
    "    tuples = zip(COO_matrix.col, COO_matrix.data)\n",
    "    return sorted(tuples, key=lambda x:(x[1], x[0]), reverse=True)\n",
    "\n",
    "def topn(sorted_tuples, feature_names, topn):\n",
    "    feature_list = []\n",
    "    value_list = []\n",
    "    sorted_tuples = sorted_tuples[:topn]\n",
    "    for idx, value in sorted_tuples:\n",
    "        feature_list.append(feature_names[idx])\n",
    "        value_list.append(value)\n",
    "    results = {}\n",
    "    for idx in range(len(feature_list)):\n",
    "        results[feature_list[idx]] = value_list[idx]\n",
    "    return results"
   ]
  },
  {
   "cell_type": "code",
   "execution_count": 18,
   "metadata": {},
   "outputs": [
    {
     "data": {
      "text/plain": [
       "'wedding photographer need a photographer for a wedding february from to or hour charge the bride check the south west of moscow'"
      ]
     },
     "execution_count": 18,
     "metadata": {},
     "output_type": "execute_result"
    }
   ],
   "source": [
    "docs[0]"
   ]
  },
  {
   "cell_type": "code",
   "execution_count": 19,
   "metadata": {},
   "outputs": [],
   "source": [
    "feature_names=cv.get_feature_names()\n",
    "sorted_tuples = sort_COO(tfidf_vector_0.tocoo())\n",
    "keywords = topn(sorted_tuples, feature_names, 10)"
   ]
  },
  {
   "cell_type": "code",
   "execution_count": 20,
   "metadata": {},
   "outputs": [
    {
     "name": "stdout",
     "output_type": "stream",
     "text": [
      "west 0.408918139910497\n",
      "wedding 0.39445350703255283\n",
      "charge 0.382671737159973\n",
      "south 0.36147329378014714\n",
      "check 0.31765348550026157\n",
      "february 0.3009251614760709\n",
      "bride 0.2997670593120834\n",
      "moscow 0.2146019947571679\n",
      "photographer 0.20567555262653536\n",
      "hour 0.15589967180316164\n"
     ]
    }
   ],
   "source": [
    "for k in keywords:\n",
    "    print(k, keywords[k])"
   ]
  },
  {
   "cell_type": "code",
   "execution_count": 34,
   "metadata": {},
   "outputs": [],
   "source": [
    "tfidf_vector_1 = tfidf_transformer.transform(cv.transform([pre_process('wanna photos of pets dogs or cats')]))"
   ]
  },
  {
   "cell_type": "code",
   "execution_count": 22,
   "metadata": {},
   "outputs": [
    {
     "data": {
      "text/plain": [
       "<1x7138 sparse matrix of type '<class 'numpy.int64'>'\n",
       "\twith 2 stored elements in Compressed Sparse Row format>"
      ]
     },
     "execution_count": 22,
     "metadata": {},
     "output_type": "execute_result"
    }
   ],
   "source": [
    "cv.transform(['wanna photo family'])"
   ]
  },
  {
   "cell_type": "code",
   "execution_count": 23,
   "metadata": {},
   "outputs": [],
   "source": [
    "from sklearn.metrics.pairwise import cosine_similarity\n",
    "\n",
    "cossim = cosine_similarity(tfidf_vector_0, tfidf_vector_1)"
   ]
  },
  {
   "cell_type": "code",
   "execution_count": 24,
   "metadata": {
    "scrolled": true
   },
   "outputs": [
    {
     "data": {
      "text/plain": [
       "<1x7138 sparse matrix of type '<class 'numpy.float64'>'\n",
       "\twith 1 stored elements in Compressed Sparse Row format>"
      ]
     },
     "execution_count": 24,
     "metadata": {},
     "output_type": "execute_result"
    }
   ],
   "source": [
    "tfidf_vector_1"
   ]
  },
  {
   "cell_type": "code",
   "execution_count": 25,
   "metadata": {},
   "outputs": [
    {
     "data": {
      "text/plain": [
       "'looking for a photographer for family photography two adult and two child the ability to lure child in priority at the end of the week will be in moscow i would like to find a good family photographer for outdoor photo shoot'"
      ]
     },
     "execution_count": 25,
     "metadata": {},
     "output_type": "execute_result"
    }
   ],
   "source": [
    "docs[3]"
   ]
  },
  {
   "cell_type": "code",
   "execution_count": 35,
   "metadata": {},
   "outputs": [
    {
     "name": "stderr",
     "output_type": "stream",
     "text": [
      "C:\\Users\\Alexander\\Anaconda3\\lib\\site-packages\\pysparnn\\matrix_distance.py:192: RuntimeWarning: divide by zero encountered in true_divide\n",
      "  magnitude = 1.0 / (a_root_sum_square * self.matrix_root_sum_square)\n",
      "C:\\Users\\Alexander\\Anaconda3\\lib\\site-packages\\pysparnn\\matrix_distance.py:192: RuntimeWarning: divide by zero encountered in true_divide\n",
      "  magnitude = 1.0 / (a_root_sum_square * self.matrix_root_sum_square)\n"
     ]
    },
    {
     "data": {
      "text/plain": [
       "[[('0.576839148229161', 'the photo of the dog to make beautiful photo of dog'),\n",
       "  ('0.5823115366911087',\n",
       "   'cat rental good day for the photo shoot in studio moscow required cat cat not too large in size to remove'),\n",
       "  ('0.5864217057915952',\n",
       "   'photography of interior with the cat there is a small exhibition of furniture room need to take photo with the cat or cat in these interior'),\n",
       "  ('0.6015794410757642', 'photo shoot of dog on the street photoshoot dog'),\n",
       "  ('0.6139851767848199',\n",
       "   'photo shoot with a dog i have a dog i need a good staged photo of the dog and general perhaps the u will my'),\n",
       "  ('0.6143858362647693',\n",
       "   'to make the video the dog wa talking need to make a video where the dog is removed and another video with the cat so that they move their mouth'),\n",
       "  ('0.6231851318489131',\n",
       "   'dog photo need a photographer who can photograph dog need photo dog for pristroystvo better on his car'),\n",
       "  ('0.6592526530422305',\n",
       "   'rent dog for video shooting you need dog breed small and big dog to shoot for a blogger in instagram'),\n",
       "  ('0.6683719203693456',\n",
       "   'need a chubby cat for a couple of photo i we the fat cat photo needed for the infopovod'),\n",
       "  ('0.6718313833666509',\n",
       "   'photo shoot with the animal in ufa need a photographer for a photo shoot with a dog dog my photo shoot in photo studio'),\n",
       "  ('0.693415458057071',\n",
       "   'to remove a half hour video on the exhibition in the coming saturday and sunday will be held in expoforum exhibition of pet pet show http'),\n",
       "  ('0.732184449444393',\n",
       "   'dog for photo and video shooting looking for a sweet photogenic and listen to the dog for photo and video shooting hour photo hour of video the cost'),\n",
       "  ('0.733587671271616',\n",
       "   'd photo studio in saint petersburg we need bulk photography child s pet here s a plan'),\n",
       "  ('0.7397974174071809',\n",
       "   'need photographer for a photoshoot of dog need a photographer for a photo shoot puppy just dog standing on the table change require photography for advertising'),\n",
       "  ('0.772751491685897',\n",
       "   'subject photography for the site required photographer specializing in photographing the subject to create beautiful picture of pet'),\n",
       "  ('0.7779997333031975',\n",
       "   'to photograph in rostov na donu billboard should be photographed in rostov na donu on the list of advertising billboard in the daytime not'),\n",
       "  ('0.7855593864041557',\n",
       "   'to shoot and mount the video to shoot event with dog to mount the roller for a few minute'),\n",
       "  ('0.785768659036803',\n",
       "   'you photoshop the picture there is a picture where you need to replace all of the face or face of cat'),\n",
       "  ('0.78865407669789',\n",
       "   'installation video collect clip funny or cute how to play pet no longer than second'),\n",
       "  ('0.8001911260262121',\n",
       "   'photo session with animal you need to remove the little kitten and dog')]]"
      ]
     },
     "execution_count": 35,
     "metadata": {},
     "output_type": "execute_result"
    }
   ],
   "source": [
    "import pysparnn.cluster_index as ci\n",
    "\n",
    "cp = ci.MultiClusterIndex(features_vec, docs)\n",
    "\n",
    "\n",
    "cp.search(tfidf_vector_1, k=20, k_clusters=2, return_distance=True)"
   ]
  },
  {
   "cell_type": "code",
   "execution_count": null,
   "metadata": {},
   "outputs": [],
   "source": []
  }
 ],
 "metadata": {
  "kernelspec": {
   "display_name": "Python 3",
   "language": "python",
   "name": "python3"
  },
  "language_info": {
   "codemirror_mode": {
    "name": "ipython",
    "version": 3
   },
   "file_extension": ".py",
   "mimetype": "text/x-python",
   "name": "python",
   "nbconvert_exporter": "python",
   "pygments_lexer": "ipython3",
   "version": "3.7.4"
  }
 },
 "nbformat": 4,
 "nbformat_minor": 2
}
